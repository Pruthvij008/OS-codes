{
 "cells": [
  {
   "cell_type": "code",
   "execution_count": 111,
   "id": "865859dd-9aff-405e-a0f0-71e85783c281",
   "metadata": {},
   "outputs": [],
   "source": [
    "from tkinter import *"
   ]
  },
  {
   "cell_type": "code",
   "execution_count": 112,
   "id": "25929671-5d6a-45e9-9c52-5197a1848b5e",
   "metadata": {},
   "outputs": [
    {
     "data": {
      "text/plain": [
       "''"
      ]
     },
     "execution_count": 112,
     "metadata": {},
     "output_type": "execute_result"
    }
   ],
   "source": [
    "root = Tk()\n",
    "root.title(\"Calculator\")"
   ]
  },
  {
   "cell_type": "code",
   "execution_count": 113,
   "id": "a2e699ff-cf75-4527-81ec-85c8f21595a6",
   "metadata": {},
   "outputs": [],
   "source": [
    "def add(value):\n",
    "    global expression\n",
    "    expression = expression + value\n",
    "    result.config(text=expression)\n",
    "    print(expression)\n",
    "\n",
    "def clr():\n",
    "    global expression\n",
    "    expression = \"\"\n",
    "    result.config(text=expression)\n",
    "\n",
    "def calc():\n",
    "    global expression\n",
    "    ans = str(eval(expression))\n",
    "    expression = ans\n",
    "    result.config(text=ans)\n",
    "    \n",
    "\n",
    "expression = \"\""
   ]
  },
  {
   "cell_type": "code",
   "execution_count": 114,
   "id": "48daf04a-2072-43a4-8b37-68f9add25922",
   "metadata": {},
   "outputs": [],
   "source": [
    "result = Label(root, text=\"\")\n",
    "result.grid(row=0,column=0,columnspan=4)"
   ]
  },
  {
   "cell_type": "code",
   "execution_count": 115,
   "id": "c361ce27-9276-4bee-8061-1e18c2684888",
   "metadata": {},
   "outputs": [],
   "source": [
    "button_clr = Button(root, text=\"C\",width=15,command=lambda : clr())\n",
    "button_clr.grid(row=1,column=0,columnspan=3)\n",
    "\n",
    "button_dvd = Button(root, text=\"/\",width=5,command=lambda : add(\"/\"))\n",
    "button_dvd.grid(row=1,column=3)"
   ]
  },
  {
   "cell_type": "code",
   "execution_count": 116,
   "id": "9383ce01-efd3-4bae-af5f-65d5783b942f",
   "metadata": {},
   "outputs": [],
   "source": [
    "button_1 = Button(root, text=\"1\",width=5,command=lambda : add(\"1\"))\n",
    "button_1.grid(row=2,column=0)\n",
    "\n",
    "button_2 = Button(root, text=\"2\",width=5,command=lambda : add(\"2\"))\n",
    "button_2.grid(row=2,column=1)\n",
    "\n",
    "button_3 = Button(root, text=\"3\",width=5,command=lambda : add(\"3\"))\n",
    "button_3.grid(row=2,column=2)\n",
    "\n",
    "button_mult = Button(root, text=\"*\",width=5,command=lambda : add(\"*\"))\n",
    "button_mult.grid(row=2,column=3)"
   ]
  },
  {
   "cell_type": "code",
   "execution_count": 117,
   "id": "ee4fa858-e562-480d-871d-3b500e0721b2",
   "metadata": {},
   "outputs": [],
   "source": [
    "button_4 = Button(root, text=\"4\",width=5,command=lambda : add(\"4\"))\n",
    "button_4.grid(row=3,column=0)\n",
    "\n",
    "button_5 = Button(root, text=\"5\",width=5,command=lambda : add(\"5\"))\n",
    "button_5.grid(row=3,column=1)\n",
    "\n",
    "button_6 = Button(root, text=\"6\",width=5,command=lambda : add(\"6\"))\n",
    "button_6.grid(row=3,column=2)\n",
    "\n",
    "button_add = Button(root, text=\"+\",width=5,command=lambda : add(\"+\"))\n",
    "button_add.grid(row=3,column=3)"
   ]
  },
  {
   "cell_type": "code",
   "execution_count": 118,
   "id": "dc433f96-ab00-48b7-bd1d-fa581b1ea0a9",
   "metadata": {},
   "outputs": [],
   "source": [
    "button_7 = Button(root, text=\"7\",width=5,command=lambda : add(\"7\"))\n",
    "button_7.grid(row=4,column=0)\n",
    "\n",
    "button_8 = Button(root, text=\"8\",width=5,command=lambda : add(\"8\"))\n",
    "button_8.grid(row=4,column=1)\n",
    "\n",
    "button_9 = Button(root, text=\"9\",width=5,command=lambda : add(\"9\"))\n",
    "button_9.grid(row=4,column=2)\n",
    "\n",
    "button_minus = Button(root, text=\"-\",width=5,command=lambda : add(\"-\"))\n",
    "button_minus.grid(row=4,column=3)"
   ]
  },
  {
   "cell_type": "code",
   "execution_count": 119,
   "id": "2cf9d860-6990-4c3e-9dc8-d28757332991",
   "metadata": {},
   "outputs": [],
   "source": [
    "button_calc = Button(root, text=\"=\",width=15,command=lambda : calc())\n",
    "button_calc.grid(row=5,column=0,columnspan=3)\n",
    "\n",
    "button_pt = Button(root, text=\".\",width=5,command=lambda : add(\".\"))\n",
    "button_pt.grid(row=5,column=3)"
   ]
  },
  {
   "cell_type": "code",
   "execution_count": 120,
   "id": "1feb177d-bbc9-4873-b636-e536004ad50a",
   "metadata": {},
   "outputs": [
    {
     "name": "stdout",
     "output_type": "stream",
     "text": [
      "1\n",
      "12\n"
     ]
    }
   ],
   "source": [
    "root.mainloop()"
   ]
  }
 ],
 "metadata": {
  "kernelspec": {
   "display_name": "Python 3 (ipykernel)",
   "language": "python",
   "name": "python3"
  },
  "language_info": {
   "codemirror_mode": {
    "name": "ipython",
    "version": 3
   },
   "file_extension": ".py",
   "mimetype": "text/x-python",
   "name": "python",
   "nbconvert_exporter": "python",
   "pygments_lexer": "ipython3",
   "version": "3.11.2"
  }
 },
 "nbformat": 4,
 "nbformat_minor": 5
}
